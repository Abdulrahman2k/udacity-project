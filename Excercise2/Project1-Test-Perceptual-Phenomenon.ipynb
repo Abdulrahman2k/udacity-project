{
 "cells": [
  {
   "cell_type": "code",
   "execution_count": 20,
   "metadata": {
    "collapsed": false
   },
   "outputs": [
    {
     "name": "stdout",
     "output_type": "stream",
     "text": [
      "C:\\Users\\Abdul\n"
     ]
    },
    {
     "data": {
      "text/html": [
       "<div>\n",
       "<table border=\"1\" class=\"dataframe\">\n",
       "  <thead>\n",
       "    <tr style=\"text-align: right;\">\n",
       "      <th></th>\n",
       "      <th>Congruent</th>\n",
       "      <th>Incongruent</th>\n",
       "    </tr>\n",
       "  </thead>\n",
       "  <tbody>\n",
       "    <tr>\n",
       "      <th>0</th>\n",
       "      <td>12.079</td>\n",
       "      <td>19.278</td>\n",
       "    </tr>\n",
       "    <tr>\n",
       "      <th>1</th>\n",
       "      <td>16.791</td>\n",
       "      <td>18.741</td>\n",
       "    </tr>\n",
       "    <tr>\n",
       "      <th>2</th>\n",
       "      <td>9.564</td>\n",
       "      <td>21.214</td>\n",
       "    </tr>\n",
       "    <tr>\n",
       "      <th>3</th>\n",
       "      <td>8.630</td>\n",
       "      <td>15.687</td>\n",
       "    </tr>\n",
       "    <tr>\n",
       "      <th>4</th>\n",
       "      <td>14.669</td>\n",
       "      <td>22.803</td>\n",
       "    </tr>\n",
       "    <tr>\n",
       "      <th>5</th>\n",
       "      <td>12.238</td>\n",
       "      <td>20.878</td>\n",
       "    </tr>\n",
       "    <tr>\n",
       "      <th>6</th>\n",
       "      <td>14.692</td>\n",
       "      <td>24.572</td>\n",
       "    </tr>\n",
       "    <tr>\n",
       "      <th>7</th>\n",
       "      <td>8.987</td>\n",
       "      <td>17.394</td>\n",
       "    </tr>\n",
       "    <tr>\n",
       "      <th>8</th>\n",
       "      <td>9.401</td>\n",
       "      <td>20.762</td>\n",
       "    </tr>\n",
       "    <tr>\n",
       "      <th>9</th>\n",
       "      <td>14.480</td>\n",
       "      <td>26.282</td>\n",
       "    </tr>\n",
       "    <tr>\n",
       "      <th>10</th>\n",
       "      <td>22.328</td>\n",
       "      <td>24.524</td>\n",
       "    </tr>\n",
       "    <tr>\n",
       "      <th>11</th>\n",
       "      <td>15.298</td>\n",
       "      <td>18.644</td>\n",
       "    </tr>\n",
       "    <tr>\n",
       "      <th>12</th>\n",
       "      <td>15.073</td>\n",
       "      <td>17.510</td>\n",
       "    </tr>\n",
       "    <tr>\n",
       "      <th>13</th>\n",
       "      <td>16.929</td>\n",
       "      <td>20.330</td>\n",
       "    </tr>\n",
       "    <tr>\n",
       "      <th>14</th>\n",
       "      <td>18.200</td>\n",
       "      <td>35.255</td>\n",
       "    </tr>\n",
       "    <tr>\n",
       "      <th>15</th>\n",
       "      <td>12.130</td>\n",
       "      <td>22.158</td>\n",
       "    </tr>\n",
       "    <tr>\n",
       "      <th>16</th>\n",
       "      <td>18.495</td>\n",
       "      <td>25.139</td>\n",
       "    </tr>\n",
       "    <tr>\n",
       "      <th>17</th>\n",
       "      <td>10.639</td>\n",
       "      <td>20.429</td>\n",
       "    </tr>\n",
       "    <tr>\n",
       "      <th>18</th>\n",
       "      <td>11.344</td>\n",
       "      <td>17.425</td>\n",
       "    </tr>\n",
       "    <tr>\n",
       "      <th>19</th>\n",
       "      <td>12.369</td>\n",
       "      <td>34.288</td>\n",
       "    </tr>\n",
       "    <tr>\n",
       "      <th>20</th>\n",
       "      <td>12.944</td>\n",
       "      <td>23.894</td>\n",
       "    </tr>\n",
       "    <tr>\n",
       "      <th>21</th>\n",
       "      <td>14.233</td>\n",
       "      <td>17.960</td>\n",
       "    </tr>\n",
       "    <tr>\n",
       "      <th>22</th>\n",
       "      <td>19.710</td>\n",
       "      <td>22.058</td>\n",
       "    </tr>\n",
       "    <tr>\n",
       "      <th>23</th>\n",
       "      <td>16.004</td>\n",
       "      <td>21.157</td>\n",
       "    </tr>\n",
       "  </tbody>\n",
       "</table>\n",
       "</div>"
      ],
      "text/plain": [
       "    Congruent  Incongruent\n",
       "0      12.079       19.278\n",
       "1      16.791       18.741\n",
       "2       9.564       21.214\n",
       "3       8.630       15.687\n",
       "4      14.669       22.803\n",
       "5      12.238       20.878\n",
       "6      14.692       24.572\n",
       "7       8.987       17.394\n",
       "8       9.401       20.762\n",
       "9      14.480       26.282\n",
       "10     22.328       24.524\n",
       "11     15.298       18.644\n",
       "12     15.073       17.510\n",
       "13     16.929       20.330\n",
       "14     18.200       35.255\n",
       "15     12.130       22.158\n",
       "16     18.495       25.139\n",
       "17     10.639       20.429\n",
       "18     11.344       17.425\n",
       "19     12.369       34.288\n",
       "20     12.944       23.894\n",
       "21     14.233       17.960\n",
       "22     19.710       22.058\n",
       "23     16.004       21.157"
      ]
     },
     "execution_count": 20,
     "metadata": {},
     "output_type": "execute_result"
    }
   ],
   "source": [
    "#Place dataset in current working directory\n",
    "#from IPython.external import mathjax; mathjax.install_mathjax()\n",
    "import os\n",
    "path = os.getcwd()\n",
    "print path\n",
    "import pandas\n",
    "data = pandas.read_csv(\"data.csv\")\n",
    "#data = pandas.read_csv(path + '\\data.csv', error_bad_lines=False)\n",
    "data"
   ]
  },
  {
   "cell_type": "code",
   "execution_count": 21,
   "metadata": {
    "collapsed": false
   },
   "outputs": [
    {
     "data": {
      "text/html": [
       "<div>\n",
       "<table border=\"1\" class=\"dataframe\">\n",
       "  <thead>\n",
       "    <tr style=\"text-align: right;\">\n",
       "      <th></th>\n",
       "      <th>Congruent</th>\n",
       "      <th>Incongruent</th>\n",
       "      <th>Subject</th>\n",
       "    </tr>\n",
       "  </thead>\n",
       "  <tbody>\n",
       "    <tr>\n",
       "      <th>0</th>\n",
       "      <td>12.079</td>\n",
       "      <td>19.278</td>\n",
       "      <td>1</td>\n",
       "    </tr>\n",
       "    <tr>\n",
       "      <th>1</th>\n",
       "      <td>16.791</td>\n",
       "      <td>18.741</td>\n",
       "      <td>2</td>\n",
       "    </tr>\n",
       "    <tr>\n",
       "      <th>2</th>\n",
       "      <td>9.564</td>\n",
       "      <td>21.214</td>\n",
       "      <td>3</td>\n",
       "    </tr>\n",
       "    <tr>\n",
       "      <th>3</th>\n",
       "      <td>8.630</td>\n",
       "      <td>15.687</td>\n",
       "      <td>4</td>\n",
       "    </tr>\n",
       "    <tr>\n",
       "      <th>4</th>\n",
       "      <td>14.669</td>\n",
       "      <td>22.803</td>\n",
       "      <td>5</td>\n",
       "    </tr>\n",
       "    <tr>\n",
       "      <th>5</th>\n",
       "      <td>12.238</td>\n",
       "      <td>20.878</td>\n",
       "      <td>6</td>\n",
       "    </tr>\n",
       "    <tr>\n",
       "      <th>6</th>\n",
       "      <td>14.692</td>\n",
       "      <td>24.572</td>\n",
       "      <td>7</td>\n",
       "    </tr>\n",
       "    <tr>\n",
       "      <th>7</th>\n",
       "      <td>8.987</td>\n",
       "      <td>17.394</td>\n",
       "      <td>8</td>\n",
       "    </tr>\n",
       "    <tr>\n",
       "      <th>8</th>\n",
       "      <td>9.401</td>\n",
       "      <td>20.762</td>\n",
       "      <td>9</td>\n",
       "    </tr>\n",
       "    <tr>\n",
       "      <th>9</th>\n",
       "      <td>14.480</td>\n",
       "      <td>26.282</td>\n",
       "      <td>10</td>\n",
       "    </tr>\n",
       "    <tr>\n",
       "      <th>10</th>\n",
       "      <td>22.328</td>\n",
       "      <td>24.524</td>\n",
       "      <td>11</td>\n",
       "    </tr>\n",
       "    <tr>\n",
       "      <th>11</th>\n",
       "      <td>15.298</td>\n",
       "      <td>18.644</td>\n",
       "      <td>12</td>\n",
       "    </tr>\n",
       "    <tr>\n",
       "      <th>12</th>\n",
       "      <td>15.073</td>\n",
       "      <td>17.510</td>\n",
       "      <td>13</td>\n",
       "    </tr>\n",
       "    <tr>\n",
       "      <th>13</th>\n",
       "      <td>16.929</td>\n",
       "      <td>20.330</td>\n",
       "      <td>14</td>\n",
       "    </tr>\n",
       "    <tr>\n",
       "      <th>14</th>\n",
       "      <td>18.200</td>\n",
       "      <td>35.255</td>\n",
       "      <td>15</td>\n",
       "    </tr>\n",
       "    <tr>\n",
       "      <th>15</th>\n",
       "      <td>12.130</td>\n",
       "      <td>22.158</td>\n",
       "      <td>16</td>\n",
       "    </tr>\n",
       "    <tr>\n",
       "      <th>16</th>\n",
       "      <td>18.495</td>\n",
       "      <td>25.139</td>\n",
       "      <td>17</td>\n",
       "    </tr>\n",
       "    <tr>\n",
       "      <th>17</th>\n",
       "      <td>10.639</td>\n",
       "      <td>20.429</td>\n",
       "      <td>18</td>\n",
       "    </tr>\n",
       "    <tr>\n",
       "      <th>18</th>\n",
       "      <td>11.344</td>\n",
       "      <td>17.425</td>\n",
       "      <td>19</td>\n",
       "    </tr>\n",
       "    <tr>\n",
       "      <th>19</th>\n",
       "      <td>12.369</td>\n",
       "      <td>34.288</td>\n",
       "      <td>20</td>\n",
       "    </tr>\n",
       "    <tr>\n",
       "      <th>20</th>\n",
       "      <td>12.944</td>\n",
       "      <td>23.894</td>\n",
       "      <td>21</td>\n",
       "    </tr>\n",
       "    <tr>\n",
       "      <th>21</th>\n",
       "      <td>14.233</td>\n",
       "      <td>17.960</td>\n",
       "      <td>22</td>\n",
       "    </tr>\n",
       "    <tr>\n",
       "      <th>22</th>\n",
       "      <td>19.710</td>\n",
       "      <td>22.058</td>\n",
       "      <td>23</td>\n",
       "    </tr>\n",
       "    <tr>\n",
       "      <th>23</th>\n",
       "      <td>16.004</td>\n",
       "      <td>21.157</td>\n",
       "      <td>24</td>\n",
       "    </tr>\n",
       "  </tbody>\n",
       "</table>\n",
       "</div>"
      ],
      "text/plain": [
       "    Congruent  Incongruent  Subject\n",
       "0      12.079       19.278        1\n",
       "1      16.791       18.741        2\n",
       "2       9.564       21.214        3\n",
       "3       8.630       15.687        4\n",
       "4      14.669       22.803        5\n",
       "5      12.238       20.878        6\n",
       "6      14.692       24.572        7\n",
       "7       8.987       17.394        8\n",
       "8       9.401       20.762        9\n",
       "9      14.480       26.282       10\n",
       "10     22.328       24.524       11\n",
       "11     15.298       18.644       12\n",
       "12     15.073       17.510       13\n",
       "13     16.929       20.330       14\n",
       "14     18.200       35.255       15\n",
       "15     12.130       22.158       16\n",
       "16     18.495       25.139       17\n",
       "17     10.639       20.429       18\n",
       "18     11.344       17.425       19\n",
       "19     12.369       34.288       20\n",
       "20     12.944       23.894       21\n",
       "21     14.233       17.960       22\n",
       "22     19.710       22.058       23\n",
       "23     16.004       21.157       24"
      ]
     },
     "execution_count": 21,
     "metadata": {},
     "output_type": "execute_result"
    }
   ],
   "source": [
    "data['Subject'] = data.index+1\n",
    "data"
   ]
  },
  {
   "cell_type": "markdown",
   "metadata": {},
   "source": [
    "1    What is our independent variable? What is our dependent variable?"
   ]
  },
  {
   "cell_type": "markdown",
   "metadata": {},
   "source": [
    "Independent Variable is the Incongruent and the Congruent Words in the Stroop test\n",
    "\n",
    "Dependent Variable is the Time Taken in seconds to read each Word from the Test,  for Text with Same color as the Text and Text with Different Color than the Text (Congruent and Incongruent words)"
   ]
  },
  {
   "cell_type": "markdown",
   "metadata": {},
   "source": [
    "2   What is an appropriate set of hypotheses for this task? What kind of statistical test do you expect to perform? Justify your choices."
   ]
  },
  {
   "cell_type": "markdown",
   "metadata": {},
   "source": [
    "µc: Mean of population of Congruent Sample\n",
    "µic: Mean of population of Incongruent Sample\n",
    "\n",
    "Ho: Null Hypothesis: µc >= µic or µc- µic >= 0 it takes the same time or less to read the congruent  than the incongruent Text Color Words.\n",
    "Ha : Alternate Hypothesis : µc <  µic or µic - µc > 0   it takes the significantly different time to read the congruent and the incongruent Text Color words\n",
    "\n",
    "we cannot use Z Test as we do not have Population Parameters(the population mean and Population standard Deviation), we will use the T Test as these test is a With the same Subject  with different Conditions (within Subjects), so we will use T Test to Confirm that there is Significant Difference between Two means to Either Reject or Accept Null Hypothesis.\n",
    "\n",
    "The Reason we are using Positive Direction, One Tail Test is to confirm that the both the Congruent and Incongruent Text Color Identification Time are not statistically same and the time taken to read the Text Color of Incongruent Words is Significantly greater, hence the positive Direction one Tail Test with α = .05 and confidence level of  95 Percent.\n",
    "\n",
    "if the Negative Direction Test is to be used then we should be expecting the Incongruent words time to be less, but since we are expecting the incongruent word reading time to be significantly more we are using One Tail, Positive Direction Test.\n",
    "\n"
   ]
  },
  {
   "cell_type": "markdown",
   "metadata": {},
   "source": [
    "3    Report some descriptive statistics regarding this dataset. Include at least one measure of central tendency and at least one measure of variability."
   ]
  },
  {
   "cell_type": "code",
   "execution_count": 6,
   "metadata": {
    "collapsed": true
   },
   "outputs": [],
   "source": [
    "C = data['Congruent']; IC = data['Incongruent']"
   ]
  },
  {
   "cell_type": "code",
   "execution_count": 13,
   "metadata": {
    "collapsed": false
   },
   "outputs": [
    {
     "data": {
      "text/plain": [
       "14.05"
      ]
     },
     "execution_count": 13,
     "metadata": {},
     "output_type": "execute_result"
    }
   ],
   "source": [
    "C_mean = C.mean(); round(C_mean,2)"
   ]
  },
  {
   "cell_type": "code",
   "execution_count": 14,
   "metadata": {
    "collapsed": false
   },
   "outputs": [
    {
     "data": {
      "text/plain": [
       "22.02"
      ]
     },
     "execution_count": 14,
     "metadata": {},
     "output_type": "execute_result"
    }
   ],
   "source": [
    "IC_mean = IC.mean(); round(IC_mean,2)"
   ]
  },
  {
   "cell_type": "code",
   "execution_count": 30,
   "metadata": {
    "collapsed": false
   },
   "outputs": [
    {
     "data": {
      "text/plain": [
       "3.56"
      ]
     },
     "execution_count": 30,
     "metadata": {},
     "output_type": "execute_result"
    }
   ],
   "source": [
    "C_sd = C.std(); round(C_sd,2)"
   ]
  },
  {
   "cell_type": "code",
   "execution_count": 32,
   "metadata": {
    "collapsed": false
   },
   "outputs": [
    {
     "data": {
      "text/plain": [
       "4.8"
      ]
     },
     "execution_count": 32,
     "metadata": {},
     "output_type": "execute_result"
    }
   ],
   "source": [
    "IC_sd = IC.std(); round(IC_sd,2)"
   ]
  },
  {
   "cell_type": "code",
   "execution_count": 7,
   "metadata": {
    "collapsed": false
   },
   "outputs": [
    {
     "data": {
      "text/plain": [
       "8.63"
      ]
     },
     "execution_count": 7,
     "metadata": {},
     "output_type": "execute_result"
    }
   ],
   "source": [
    "C_min = C.min(); round(C_min,2)"
   ]
  },
  {
   "cell_type": "code",
   "execution_count": 8,
   "metadata": {
    "collapsed": false
   },
   "outputs": [
    {
     "data": {
      "text/plain": [
       "22.33"
      ]
     },
     "execution_count": 8,
     "metadata": {},
     "output_type": "execute_result"
    }
   ],
   "source": [
    "C_max = C.max(); round(C_max,2)"
   ]
  },
  {
   "cell_type": "code",
   "execution_count": 9,
   "metadata": {
    "collapsed": false
   },
   "outputs": [
    {
     "data": {
      "text/plain": [
       "15.69"
      ]
     },
     "execution_count": 9,
     "metadata": {},
     "output_type": "execute_result"
    }
   ],
   "source": [
    "IC_min = IC.min(); round(IC_min,2)"
   ]
  },
  {
   "cell_type": "code",
   "execution_count": 10,
   "metadata": {
    "collapsed": false
   },
   "outputs": [
    {
     "data": {
      "text/plain": [
       "35.26"
      ]
     },
     "execution_count": 10,
     "metadata": {},
     "output_type": "execute_result"
    }
   ],
   "source": [
    "IC_max = IC.max(); round(IC_max,2)"
   ]
  },
  {
   "cell_type": "code",
   "execution_count": 28,
   "metadata": {
    "collapsed": false
   },
   "outputs": [
    {
     "data": {
      "text/plain": [
       "24"
      ]
     },
     "execution_count": 28,
     "metadata": {},
     "output_type": "execute_result"
    }
   ],
   "source": [
    "N= len(data);N"
   ]
  },
  {
   "cell_type": "markdown",
   "metadata": {},
   "source": [
    "measure of Central tendency are as follows\n",
    "\n",
    "Mean For Congruent\t\n",
    "\n",
    "14.05\n",
    "\n",
    "\n",
    "Mean For Incongruent\n",
    "\n",
    "22.02\n",
    "\n",
    "\n",
    "\n",
    "measure of variability are as follows\n",
    "\n",
    "Standard deviation For Congruent\n",
    "\n",
    "3.56\n",
    "\n",
    "Standard deviation For Incongruent\t\n",
    "\n",
    "4.8"
   ]
  },
  {
   "cell_type": "markdown",
   "metadata": {},
   "source": [
    "4     Provide one or two visualizations that show the distribution of the sample data. Write one or two sentences noting what you observe about the plot or plots."
   ]
  },
  {
   "cell_type": "code",
   "execution_count": 4,
   "metadata": {
    "collapsed": false
   },
   "outputs": [
    {
     "name": "stdout",
     "output_type": "stream",
     "text": [
      "C:\\Users\\Abdul\n"
     ]
    },
    {
     "data": {
      "image/png": "[encoded data removed]",
      "text/plain": [
       "<matplotlib.figure.Figure at 0x4095f60>"
      ]
     },
     "metadata": {},
     "output_type": "display_data"
    }
   ],
   "source": [
    "import os\n",
    "path = os.getcwd()\n",
    "print path\n",
    "import pandas\n",
    "import numpy as np\n",
    "data = pandas.read_csv(\"data.csv\")\n",
    "#data = pandas.read_csv(path + '\\data.csv', error_bad_lines=False)\n",
    "import matplotlib.pyplot as plt\n",
    "%matplotlib inline\n",
    "\n",
    "data['Subject'] = data.index+1\n",
    "\n",
    "N = len(data)\n",
    "x = data['Subject']\n",
    "y = data['Congruent']\n",
    "colors = 'green'\n",
    "area = np.pi * 15 # 0 to 15 point radiuses\n",
    "\n",
    "fig = plt.figure()\n",
    "fig.suptitle('Congruent Words: ', fontsize=16, fontweight='bold')\n",
    "ax = fig.add_subplot(111)\n",
    "fig.subplots_adjust(top=0.85)\n",
    "ax.set_title('Response Time Scatterplot')\n",
    "ax.set_xlabel('Subject #')\n",
    "ax.set_ylabel('Time Taken to Read (seconds)')\n",
    "\n",
    "plt.xticks(np.arange(min(x), max(x)+1, 1.0))\n",
    "plt.yticks(np.arange(0, 35, 2))\n",
    "plt.scatter(x, y, s=area, c=colors, alpha=0.5)\n",
    "plt.ylim([0,35])\n",
    "plt.xlim([0,24])\n",
    "plt.show()"
   ]
  },
  {
   "cell_type": "code",
   "execution_count": 3,
   "metadata": {
    "collapsed": false
   },
   "outputs": [
    {
     "name": "stdout",
     "output_type": "stream",
     "text": [
      "C:\\Users\\Abdul\n"
     ]
    },
    {
     "data": {
      "image/png": "[encoded data removed]",
      "text/plain": [
       "<matplotlib.figure.Figure at 0xc350e10>"
      ]
     },
     "metadata": {},
     "output_type": "display_data"
    }
   ],
   "source": [
    "import os\n",
    "path = os.getcwd()\n",
    "print path\n",
    "import pandas\n",
    "import numpy as np\n",
    "data = pandas.read_csv(\"data.csv\")\n",
    "#data = pandas.read_csv(path + '\\data.csv', error_bad_lines=False)\n",
    "import matplotlib.pyplot as plt\n",
    "%matplotlib inline\n",
    "\n",
    "data['Subject'] = data.index+1\n",
    "\n",
    "N = len(data)\n",
    "x = data['Subject']\n",
    "y = data['Incongruent']\n",
    "colors = 'red'\n",
    "area = np.pi * 15 # 0 to 15 point radiuses\n",
    "\n",
    "fig = plt.figure()\n",
    "fig.suptitle('Incongruent Words: ', fontsize=16, fontweight='bold')\n",
    "ax = fig.add_subplot(111)\n",
    "fig.subplots_adjust(top=0.85)\n",
    "ax.set_title('Response Time Scatterplot')\n",
    "ax.set_xlabel('Subject #')\n",
    "ax.set_ylabel('Time Taken to Read (seconds)')\n",
    "\n",
    "plt.xticks(np.arange(min(x), max(x)+1, 1.0))\n",
    "plt.yticks(np.arange(0, 35, 2))\n",
    "plt.scatter(x, y, s=area, c=colors, alpha=0.5)\n",
    "plt.ylim([0,35])\n",
    "plt.xlim([0,24])\n",
    "plt.show()"
   ]
  },
  {
   "cell_type": "markdown",
   "metadata": {},
   "source": [
    "From the Scatterplot, we can observe that there is an outlier for Response time of incongruent at 35.26 Seconds, and the Minimum and Maximum Response time for Incongruent words are 15.69  and 35.26\n",
    "\n",
    "and the Minimum and Maximum Response time for Coongruent words are 8.63 and 22.33\n",
    "\n",
    "Just from this observation, we can infer that the time taken to read Incongruent words are way significant higher than the time taken to read Congruent words."
   ]
  },
  {
   "cell_type": "markdown",
   "metadata": {},
   "source": [
    "5   Now, perform the statistical test and report your results. What is your confidence level and your critical statistic value? Do you reject the null hypothesis or fail to reject it? Come to a conclusion in terms of the experiment task. Did the results match up with your expectations?"
   ]
  },
  {
   "cell_type": "code",
   "execution_count": 20,
   "metadata": {
    "collapsed": false
   },
   "outputs": [
    {
     "data": {
      "text/plain": [
       "7.96"
      ]
     },
     "execution_count": 20,
     "metadata": {},
     "output_type": "execute_result"
    }
   ],
   "source": [
    "#Point Estimate in Seconds = µic - µc \n",
    "PE = IC_mean - C_mean; round(PE,2)\n"
   ]
  },
  {
   "cell_type": "code",
   "execution_count": 33,
   "metadata": {
    "collapsed": false
   },
   "outputs": [
    {
     "data": {
      "text/plain": [
       "0.83"
      ]
     },
     "execution_count": 33,
     "metadata": {},
     "output_type": "execute_result"
    }
   ],
   "source": []
  },
  {
   "cell_type": "code",
   "execution_count": 27,
   "metadata": {
    "collapsed": false
   },
   "outputs": [
    {
     "data": {
      "text/plain": [
       "9.57"
      ]
     },
     "execution_count": 27,
     "metadata": {},
     "output_type": "execute_result"
    }
   ],
   "source": [
    "#t statistic = PE/SE  \n",
    "t =PE/SE; round(t,2)"
   ]
  },
  {
   "cell_type": "code",
   "execution_count": 38,
   "metadata": {
    "collapsed": false
   },
   "outputs": [
    {
     "data": {
      "text/plain": [
       "8.02"
      ]
     },
     "execution_count": 38,
     "metadata": {},
     "output_type": "execute_result"
    }
   ],
   "source": [
    "#s - sample standard deviation of differences\n",
    "#1. D = sample difference\n",
    "data['D'] = data['Incongruent'] - data['Congruent']\n",
    "data['D']\n",
    "#2. DFM = difference from the mean\n",
    "#SQD = squared differences from the mean\n",
    "DFM = data['D'] - data['D'].mean()\n",
    "data['SQD'] = DFM*DFM\n",
    "\n",
    "#3. SSD = sum of squared differences\n",
    "SSD = data['SQD'].sum()\n",
    "\n",
    "#4. v = variance = SSD/(N-1)\n",
    "v = SSD/(N-1)\n",
    "\n",
    "#5. Standard Error  = sqrt(v/n)\n",
    "from math import *\n",
    "SE = sqrt(v/N)\n",
    "\n",
    "#t statistic = PE(Point Estimate)/ SE (Standard Error)\n",
    "import math\n",
    "t =PE/SE\n",
    "round(t,2)\n",
    "\n",
    "# https://www.youtube.com/watch?v=s-r0p2-Mpr4 is the source of this formula"
   ]
  },
  {
   "cell_type": "markdown",
   "metadata": {},
   "source": [
    "The Degrees of Freedom = n-1 = 24-1 = 23\n",
    "\n",
    "Confidence level = 95 %\n",
    "\n",
    "Tcritical value (One Sided Test)  from T Table https://s3.amazonaws.com/udacity-hosted-downloads/t-table.jpg\n",
    "\n",
    "Tcritical Value = + 1.714\n",
    "\n",
    "\n",
    "the Statistical Test, we will use is the Z Test, the Confidence level is 95 %, with α = .05,the Tcritial Value is 1.714,  T Statistical Value is 8.02 . \n",
    "\n",
    "\n",
    "\n",
    "Tstatistical Value > T critical Value\n",
    "\n",
    "8.02>1.714\n",
    "\n",
    "we  Reject the Null, since the value of this T Statistic is too high and probability to have this value to come by chance is Way too less.\n",
    "\n",
    "There is Significant differences between the population average completion time for the two different conditions (Congruent and Incongruent)\n",
    "\n",
    "\n",
    "Since we did the Stroop Test myself, i got 29 Seconds for the Congruent and 56 Seconds for the Incongruent Text Color Combination, with that i had this understanding that the T Statistical value will be definitely beyond T Critical Value for Alpha  95 % and it will not be within the centre of the Sample distribution Mean for sure, This result perfectly matches my expectation."
   ]
  },
  {
   "cell_type": "markdown",
   "metadata": {},
   "source": [
    "6   Optional: What do you think is responsible for the effects observed? Can you think of an alternative or similar task that would result in a similar effect? Some research about the problem will be helpful for thinking about these two questions!"
   ]
  },
  {
   "cell_type": "markdown",
   "metadata": {},
   "source": [
    "Since our brains are programmed and intuitively links the color with the name without any conscious effort from our part, it becomes easy to identify the color, after reading the name(text)\n",
    "\n",
    "in Case of Incongruent Color and Text, we had to first read and consciously disassociate the color of the Text  and associate a different color (which you see visually) with the text, this process of requires addittional effort and hence takes more time.\n",
    "\n",
    "In case of Windows users, the process to start / identify new programs in Windows 7,was to go to the Bottom Left Side of the Screen in windows Start Button--> and then find the programs, but in case of Windows 8, the windows start button was not there in the usual place,  and people had to consciously remember  to go to the right and search for programs, instead of going from the left bottom side of Windows Start Button.\n",
    "\n",
    "this added a level of complexity and where in users have to disassociate the usual place of searching for programs and learn and associate a whole new way of opening programs, which was not intuitive,\n",
    "\n",
    "i would say the best way forward is to ensure to build up on the learning and add features on top, that is the reason for new releases of windows Operating System, Microsoft has ensured the start button is at the left bottom, this would definitely increase the traction of their product."
   ]
  }
 ],
 "metadata": {
  "kernelspec": {
   "display_name": "Python 2",
   "language": "python",
   "name": "python2"
  },
  "language_info": {
   "codemirror_mode": {
    "name": "ipython",
    "version": 2
   },
   "file_extension": ".py",
   "mimetype": "text/x-python",
   "name": "python",
   "nbconvert_exporter": "python",
   "pygments_lexer": "ipython2",
   "version": "2.7.10"
  }
 },
 "nbformat": 4,
 "nbformat_minor": 0
}
